{
 "cells": [
  {
   "cell_type": "code",
   "execution_count": 191,
   "metadata": {},
   "outputs": [],
   "source": [
    "import numpy as np\n",
    "import pandas as pd\n",
    "\n",
    "import matplotlib.pyplot as plt"
   ]
  },
  {
   "cell_type": "code",
   "execution_count": 192,
   "metadata": {
    "scrolled": false
   },
   "outputs": [],
   "source": [
    "header = pd.read_excel('gaussian_beam_fit.xlsx', header=0, nrows=11, usecols=[0,1])\n",
    "data = pd.read_excel('gaussian_beam_fit.xlsx', skiprows=12)"
   ]
  },
  {
   "cell_type": "code",
   "execution_count": 193,
   "metadata": {},
   "outputs": [],
   "source": [
    "# Reading in fit parameters\n",
    "wavelength = header.iloc[0].values[1]\n",
    "auto_guess = bool(header.iloc[1].values[1])\n",
    "fit_m2 = bool(header.iloc[2].values[1])\n",
    "use_delta_z = bool(header.iloc[3].values[1])\n",
    "use_delta_wx = bool(header.iloc[4].values[1])\n",
    "use_delta_wy = bool(header.iloc[5].values[1])\n",
    "\n",
    "if fit_m2:\n",
    "    M2 = header.iloc[10].values[1]\n",
    "else:\n",
    "    M2 = 1\n",
    "\n",
    "# Rescale inputs\n",
    "wavelength *= (1E-9)\n",
    "z = data['z [cm]']*(1E-2)\n",
    "dz = data['Delta z [cm]']*(1E-2)\n",
    "wx = data['w_0x [um]']*(1E-6)\n",
    "dwx = data['Delta w_0x [um]']*(1E-6)\n",
    "wy = data['w_0y [um]']*(1E-6)\n",
    "dwy = data['Delta w_0y [um]']*(1E-6)\n",
    "\n",
    "# Guess initial values\n",
    "if not auto_guess:\n",
    "    w0x = header.iloc[6].values[1]\n",
    "    z0x = header.iloc[7].values[1]\n",
    "    w0y = header.iloc[8].values[1]\n",
    "    z0y = header.iloc[9].values[1]\n",
    "\n",
    "else:\n",
    "    # Write some code to guess initial values\n",
    "    w0x = header.iloc[6].values[1]\n",
    "    z0x = header.iloc[7].values[1]\n",
    "    w0y = header.iloc[8].values[1]\n",
    "    z0y = header.iloc[9].values[1]"
   ]
  },
  {
   "cell_type": "code",
   "execution_count": null,
   "metadata": {},
   "outputs": [],
   "source": []
  }
 ],
 "metadata": {
  "kernelspec": {
   "display_name": "Python 3",
   "language": "python",
   "name": "python3"
  },
  "language_info": {
   "codemirror_mode": {
    "name": "ipython",
    "version": 3
   },
   "file_extension": ".py",
   "mimetype": "text/x-python",
   "name": "python",
   "nbconvert_exporter": "python",
   "pygments_lexer": "ipython3",
   "version": "3.8.5"
  }
 },
 "nbformat": 4,
 "nbformat_minor": 4
}
